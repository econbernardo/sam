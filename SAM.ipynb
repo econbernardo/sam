{
 "cells": [
  {
   "cell_type": "code",
   "execution_count": 1,
   "metadata": {},
   "outputs": [
    {
     "name": "stdout",
     "output_type": "stream",
     "text": [
      "This is Python 2!\n"
     ]
    }
   ],
   "source": [
    "print 'This is Python 2!'"
   ]
  },
  {
   "cell_type": "code",
   "execution_count": null,
   "metadata": {},
   "outputs": [],
   "source": [
    "import os\n",
    "os.environ[\"KERAS_BACKEND\"] = \"theano\"\n",
    "\n",
    "import theano\n",
    "import keras\n",
    "import cv2\n",
    "print(\"Theano version:\", theano.__version__)\n",
    "print(\"Keras version:\", keras.__version__)\n",
    "print(\"OpenCV version:\", cv2.__version__)"
   ]
  },
  {
   "cell_type": "code",
   "execution_count": null,
   "metadata": {},
   "outputs": [
    {
     "name": "stderr",
     "output_type": "stream",
     "text": [
      "Using Theano backend.\n",
      "WARNING (theano.configdefaults): g++ not available, if using conda: `conda install m2w64-toolchain`\n",
      "WARNING (theano.configdefaults): g++ not detected ! Theano will be unable to execute optimized C-implementations (for both CPU and GPU) and will default to Python implementations. Performance will be severely degraded. To remove this warning, set Theano flags cxx to an empty string.\n",
      "c:\\Users\\begui\\anaconda3\\envs\\sam_env\\lib\\site-packages\\keras\\backend\\theano_backend.py:1282: UserWarning: DEPRECATION: the 'ds' parameter is not going to exist anymore as it is going to be replaced by the parameter 'ws'.\n",
      "  mode='max')\n",
      "c:\\Users\\begui\\anaconda3\\envs\\sam_env\\lib\\site-packages\\keras\\backend\\theano_backend.py:1282: UserWarning: DEPRECATION: the 'st' parameter is not going to exist anymore as it is going to be replaced by the parameter 'stride'.\n",
      "  mode='max')\n",
      "c:\\Users\\begui\\anaconda3\\envs\\sam_env\\lib\\site-packages\\keras\\backend\\theano_backend.py:1282: UserWarning: DEPRECATION: the 'padding' parameter is not going to exist anymore as it is going to be replaced by the parameter 'pad'.\n",
      "  mode='max')\n",
      "Traceback (most recent call last):\n",
      "  File \"main.py\", line 63, in <module>\n",
      "    m = Model(input=[x, x_maps], output=sam_resnet([x, x_maps]))\n",
      "  File \"c:\\Users\\begui\\OneDrive\\Documentos\\GitHub\\sam\\models.py\", line 140, in sam_resnet\n",
      "    concateneted = merge([att_convlstm, priors1], mode='concat', concat_axis=1)\n",
      "  File \"c:\\Users\\begui\\anaconda3\\envs\\sam_env\\lib\\site-packages\\keras\\engine\\topology.py\", line 1528, in merge\n",
      "    name=name)\n",
      "  File \"c:\\Users\\begui\\anaconda3\\envs\\sam_env\\lib\\site-packages\\keras\\engine\\topology.py\", line 1186, in __init__\n",
      "    node_indices, tensor_indices)\n",
      "  File \"c:\\Users\\begui\\anaconda3\\envs\\sam_env\\lib\\site-packages\\keras\\engine\\topology.py\", line 1253, in _arguments_validation\n",
      "    'Layer shapes: %s' % (input_shapes))\n",
      "Exception: \"concat\" mode can only merge layers with matching output shapes except for the concat axis. Layer shapes: [(None, 512, 30, 512), (None, 16, 30, 40)]\n"
     ]
    }
   ],
   "source": [
    "!python main.py test sample_images/\n"
   ]
  },
  {
   "cell_type": "code",
   "execution_count": null,
   "metadata": {},
   "outputs": [],
   "source": []
  }
 ],
 "metadata": {
  "kernelspec": {
   "display_name": "sam_env",
   "language": "python",
   "name": "python3"
  },
  "language_info": {
   "codemirror_mode": {
    "name": "ipython",
    "version": 2
   },
   "file_extension": ".py",
   "mimetype": "text/x-python",
   "name": "python",
   "nbconvert_exporter": "python",
   "pygments_lexer": "ipython2",
   "version": "2.7.18"
  }
 },
 "nbformat": 4,
 "nbformat_minor": 2
}
